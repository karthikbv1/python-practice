{
 "cells": [
  {
   "cell_type": "code",
   "execution_count": 64,
   "id": "f8a3d633-20d7-4d1a-8735-e0615b6f4060",
   "metadata": {},
   "outputs": [
    {
     "name": "stdout",
     "output_type": "stream",
     "text": [
      "ell cpome\n"
     ]
    }
   ],
   "source": [
    "class Python:\n",
    "    def fun(self):\n",
    "        print(\"ell cpome\")\n",
    "obj=Python()       \n",
    "obj.fun()\n"
   ]
  },
  {
   "cell_type": "code",
   "execution_count": 32,
   "id": "ee630d1a-d211-486b-83b4-110c9788bd97",
   "metadata": {},
   "outputs": [
    {
     "name": "stdout",
     "output_type": "stream",
     "text": [
      "name: AUDI id: 2000000\n"
     ]
    }
   ],
   "source": [
    "class Car:\n",
    "    'common_car'\n",
    "    car=0\n",
    "    def __init__(self,name,id):\n",
    "        self.name=name\n",
    "        self.id=id\n",
    "        car.car+=1\n",
    "    def printCardata(self):\n",
    "        print(\"name:\",self.name,\"id:\",self.id)\n",
    "c = Car(\"AUDI\",2000000) \n",
    "c.printCardata()"
   ]
  },
  {
   "cell_type": "code",
   "execution_count": 44,
   "id": "ee3445e9-e78c-4fa2-b61f-c5df7a5a209a",
   "metadata": {},
   "outputs": [
    {
     "name": "stdout",
     "output_type": "stream",
     "text": [
      "name: AUDI id: 2000000\n"
     ]
    }
   ],
   "source": [
    "class Car:\n",
    "    'common_car'\n",
    "    car = 0  # Class attribute\n",
    "\n",
    "    def __init__(self, name, id ):  # Fix the constructor name to __init__\n",
    "        self.name = name  # Instance attribute\n",
    "        self.id = id  # Instance attribute\n",
    "       # Access class attribute using ClassName\n",
    "\n",
    "    def displayCardata(self):  # Correct the method name\n",
    "        print(\"name:\", self.name, \"id:\", self.id)\n",
    "\n",
    "# Create an object of the class\n",
    "c = Car(\"AUDI\", 2000000)\n",
    "c.displayCardata()\n"
   ]
  },
  {
   "cell_type": "code",
   "execution_count": 46,
   "id": "10ee62b7-a9d8-46d6-be19-f5c8fb5bf6e5",
   "metadata": {},
   "outputs": [
    {
     "ename": "AttributeError",
     "evalue": "'tuple' object has no attribute 'didplau'",
     "output_type": "error",
     "traceback": [
      "\u001b[1;31m---------------------------------------------------------------------------\u001b[0m",
      "\u001b[1;31mAttributeError\u001b[0m                            Traceback (most recent call last)",
      "Cell \u001b[1;32mIn[46], line 11\u001b[0m\n\u001b[0;32m      9\u001b[0m             \u001b[38;5;28mprint\u001b[39m(odd)\n\u001b[0;32m     10\u001b[0m even\u001b[38;5;241m=\u001b[39m\u001b[38;5;241m1\u001b[39m,\u001b[38;5;241m2\u001b[39m,\u001b[38;5;241m3\u001b[39m,\u001b[38;5;241m4\u001b[39m,\u001b[38;5;241m5\u001b[39m,\u001b[38;5;241m6\u001b[39m\n\u001b[1;32m---> 11\u001b[0m even\u001b[38;5;241m.\u001b[39mdidplau()\n",
      "\u001b[1;31mAttributeError\u001b[0m: 'tuple' object has no attribute 'didplau'"
     ]
    }
   ],
   "source": [
    "class Number:\n",
    "    def evenodd(self,even,odd):\n",
    "        self.even=even\n",
    "        self.odd=odd\n",
    "    def displau(self):\n",
    "        if even%2==0:\n",
    "            print(even)\n",
    "        else:\n",
    "            print(odd)\n",
    "even=1,2,3,4,5,6\n",
    "even.didplau()"
   ]
  },
  {
   "cell_type": "code",
   "execution_count": 1,
   "id": "1e2bbca5-cd3b-440d-aa99-a26766294beb",
   "metadata": {},
   "outputs": [
    {
     "name": "stdout",
     "output_type": "stream",
     "text": [
      "The number 10 is Positive\n",
      "The number -5 is Negative\n",
      "The number 0 is Zero\n"
     ]
    }
   ],
   "source": [
    "class Number:\n",
    "    def __init__(self, value):\n",
    "        \"\"\"Constructor to initialize the number.\"\"\"\n",
    "        self.value = value\n",
    "\n",
    "    def check_sign(self):\n",
    "        \"\"\"Check if the number is positive, negative, or zero.\"\"\"\n",
    "        if self.value > 0:\n",
    "            return \"Positive\"\n",
    "        elif self.value < 0:\n",
    "            return \"Negative\"\n",
    "        else:\n",
    "            return \"Zero\"\n",
    "\n",
    "    def display(self):\n",
    "        \"\"\"Display the number and its type (positive, negative, or zero).\"\"\"\n",
    "        print(f\"The number {self.value} is {self.check_sign()}\")\n",
    "\n",
    "\n",
    "# Create objects of the Number class\n",
    "num1 = Number(10)\n",
    "num2 = Number(-5)\n",
    "num3 = Number(0)\n",
    "\n",
    "# Check and display the sign of each number\n",
    "num1.display()  # Output: The number 10 is Positive\n",
    "num2.display()  # Output: The number -5 is Negative\n",
    "num3.display()  # Output: The number 0 is Zero\n"
   ]
  },
  {
   "cell_type": "code",
   "execution_count": 54,
   "id": "fbfc72ba-caf5-4649-bcf3-a2b1931ab8fb",
   "metadata": {},
   "outputs": [
    {
     "name": "stdout",
     "output_type": "stream",
     "text": [
      "total cars: 3\n",
      "name: audi ID: 200000\n",
      "name: bdhb ID: 300000\n",
      "name: porshe ID: 40000\n"
     ]
    }
   ],
   "source": [
    "class Car:\n",
    "    'common car'\n",
    "    car=0\n",
    "    def __init__(self,name,id): \n",
    "        self.name=name\n",
    "        self.id=id\n",
    "        Car.car+=1\n",
    "    def cardata(self):\n",
    "        print(\"name:\",self.name,\"ID:\",self.id)\n",
    "c=Car('audi',200000) \n",
    "c1=Car('bdhb',300000) \n",
    "c2=Car(\"porshe\",40000) \n",
    "print(\"total cars:\",Car.car)\n",
    "c.cardata()\n",
    "c1.cardata()\n",
    "c2.cardata()"
   ]
  },
  {
   "cell_type": "code",
   "execution_count": 2,
   "id": "86eae668-59f8-42cf-8402-71813f9ac668",
   "metadata": {},
   "outputs": [
    {
     "ename": "TypeError",
     "evalue": "Test.__init__() takes 1 positional argument but 2 were given",
     "output_type": "error",
     "traceback": [
      "\u001b[1;31m---------------------------------------------------------------------------\u001b[0m",
      "\u001b[1;31mTypeError\u001b[0m                                 Traceback (most recent call last)",
      "Cell \u001b[1;32mIn[2], line 7\u001b[0m\n\u001b[0;32m      5\u001b[0m     \u001b[38;5;28;01mdef\u001b[39;00m \u001b[38;5;21mChange\u001b[39m(\u001b[38;5;28mself\u001b[39m,var):\n\u001b[0;32m      6\u001b[0m        \u001b[38;5;28mself\u001b[39m\u001b[38;5;241m.\u001b[39mvar\u001b[38;5;241m=\u001b[39m\u001b[38;5;124m'\u001b[39m\u001b[38;5;124mBike\u001b[39m\u001b[38;5;124m'\u001b[39m\n\u001b[1;32m----> 7\u001b[0m obj\u001b[38;5;241m=\u001b[39m\u001b[43mTest\u001b[49m\u001b[43m(\u001b[49m\u001b[38;5;124;43m'\u001b[39;49m\u001b[38;5;124;43mds\u001b[39;49m\u001b[38;5;124;43m'\u001b[39;49m\u001b[43m)\u001b[49m\n\u001b[0;32m      8\u001b[0m \u001b[38;5;28mprint\u001b[39m(obj\u001b[38;5;241m.\u001b[39mvariable)\n",
      "\u001b[1;31mTypeError\u001b[0m: Test.__init__() takes 1 positional argument but 2 were given"
     ]
    }
   ],
   "source": [
    "class Test:\n",
    "    def __init__(self):\n",
    "        self.variable='car'\n",
    "        self.Change(self.variable)\n",
    "    def Change(self,var):\n",
    "       self.var='Bike'\n",
    "obj=Test()\n",
    "print(obj.variable)"
   ]
  },
  {
   "cell_type": "code",
   "execution_count": 3,
   "id": "3e692dbd-2b76-4a88-94c2-0e9fba303e19",
   "metadata": {},
   "outputs": [
    {
     "name": "stdout",
     "output_type": "stream",
     "text": [
      "Positive values: 1 2\n",
      "Negative values: -1 -2\n"
     ]
    }
   ],
   "source": [
    "class Numbers:\n",
    "    def __init__(self, pos1, pos2, neg1, neg2):\n",
    "        self.pos1 = pos1\n",
    "        self.pos2 = pos2\n",
    "        self.neg1 = neg1\n",
    "        self.neg2 = neg2\n",
    "\n",
    "    def printdata(self):\n",
    "        print(\"Positive values:\", self.pos1, self.pos2)\n",
    "        print(\"Negative values:\", self.neg1, self.neg2)\n",
    "\n",
    "b = Numbers(1, 2, -1, -2)\n",
    "b.printdata()"
   ]
  },
  {
   "cell_type": "code",
   "execution_count": 8,
   "id": "964a411a-0d45-4ff4-b617-a29f874fff03",
   "metadata": {},
   "outputs": [
    {
     "name": "stdout",
     "output_type": "stream",
     "text": [
      "<__main__.Dog object at 0x0000025F801756D0>\n"
     ]
    }
   ],
   "source": [
    "class Dog:\n",
    "    def __init__(self,name,breed):\n",
    "        self.hesru=name\n",
    "        self.jathi=breed\n",
    "    def print(self):\n",
    "        print(f\"the dog is{self.hesru}\")\n",
    "        print(f\"the jathi is{self.jathi}\") \n",
    "obj=Dog(\"dogy\",\"dabara\")\n",
    "print(obj)"
   ]
  },
  {
   "cell_type": "code",
   "execution_count": 13,
   "id": "c7e122d4-0ad1-4245-8aee-612f2cc99c02",
   "metadata": {},
   "outputs": [
    {
     "name": "stdout",
     "output_type": "stream",
     "text": [
      "engine is powerfull\n",
      "100km\n"
     ]
    }
   ],
   "source": [
    "class Car:\n",
    "    def speed(self):\n",
    "        print(\"100km\")\n",
    "class Audi(Car):\n",
    "    def engine(self) :\n",
    "        print(\"engine is powerfull\") \n",
    "c=Audi()\n",
    "c.engine()\n",
    "c.speed()"
   ]
  },
  {
   "cell_type": "code",
   "execution_count": 20,
   "id": "72d9b7bf-a257-4f49-92ad-ed99b6a3dc24",
   "metadata": {},
   "outputs": [
    {
     "name": "stdout",
     "output_type": "stream",
     "text": [
      "some generic sound\n",
      "mnxjnj\n",
      "rara\n"
     ]
    }
   ],
   "source": [
    "#overidindg\n",
    "class Animal: \n",
    "    def sound(self) :\n",
    "        print(\"some generic sound\")\n",
    "class Dog(Animal):\n",
    "    def sound(self):\n",
    "        print(\"mnxjnj\") \n",
    "class Cat(Animal):\n",
    "    def sound(self):\n",
    "        print(\"rara\")\n",
    "dog=Dog()\n",
    "cat=Cat()\n",
    "animal=Animal()\n",
    "animal.sound()\n",
    "dog.sound()\n",
    "cat.sound()"
   ]
  },
  {
   "cell_type": "code",
   "execution_count": 19,
   "id": "92682a41-3ddf-4de3-8ba0-25f462b355e9",
   "metadata": {},
   "outputs": [
    {
     "name": "stdout",
     "output_type": "stream",
     "text": [
      "mnxjnj\n",
      "rara\n"
     ]
    }
   ],
   "source": [
    "\n",
    "class Dog(Animal):\n",
    "    def sound(self):\n",
    "        print(\"mnxjnj\") \n",
    "class Cat(Animal):\n",
    "    def sound(self):\n",
    "        print(\"rara\")\n",
    "dog=Dog()\n",
    "cat=Cat()\n",
    "dog.sound()\n",
    "cat.sound()"
   ]
  },
  {
   "cell_type": "code",
   "execution_count": 30,
   "id": "7774f85e-5b6a-4577-9032-87a4ce56ee2a",
   "metadata": {},
   "outputs": [
    {
     "name": "stdin",
     "output_type": "stream",
     "text": [
      "enter a 1st number: 19\n",
      "enter a 2st number: 12\n"
     ]
    },
    {
     "name": "stdout",
     "output_type": "stream",
     "text": [
      "31\n",
      "7\n",
      "228\n",
      "1.5833333333333333\n"
     ]
    }
   ],
   "source": [
    "class Inheritence:\n",
    "    def add(self,num1,num2):\n",
    "        self.num1=num1\n",
    "        self.num2=num2\n",
    "        print(self.num1+ self.num2) \n",
    "    def sub(self,num1,num2):\n",
    "        self.num1=num1\n",
    "        self.num2=num2\n",
    "        print(self.num1 -self.num2)\n",
    "    def mul(self,num1,num2):\n",
    "        self.num1=num1\n",
    "        self.num2=num2\n",
    "        print(self.num1/self.num2)\n",
    "    def div(self,num1,num2):\n",
    "        self.num1=num1\n",
    "        self.num2=num2\n",
    "        print(self.num1* self.num2)\n",
    "num1=int(input(\"enter a 1st number:\"))\n",
    "num2=int(input(\"enter a 2st number:\"))\n",
    "calculater=Inheritence()\n",
    "calculater.add(num1,num2)\n",
    "calculater.sub(num1,num2)\n",
    "calculater.div(num1,num2)\n",
    "calculater.mul(num1,num2)\n",
    "        \n",
    "        \n",
    "        \n",
    "        "
   ]
  },
  {
   "cell_type": "code",
   "execution_count": null,
   "id": "0d0b8bb7-be84-4ceb-84b2-0fa2fd08a608",
   "metadata": {},
   "outputs": [],
   "source": [
    "class Normalroom:\n",
    "    def calculate(self,norooms,days):\n",
    "        if days==1:\n",
    "            rent=300\n",
    "        elif 1< dyas<=5:\n",
    "            rent=250\n",
    "        return norooms*rent\n",
    "class Acroom:\n",
    "    def Acroom(self,norooms,days)\n",
    "        if days==1: \n",
    "            rent=450\n",
    "        elif 1< days<=5:\n",
    "            rent=300\n",
    "        else:\n",
    "            rent=250\n",
    "        return norooms*5\n",
    "        "
   ]
  },
  {
   "cell_type": "code",
   "execution_count": 8,
   "id": "6ebe4ea0-9bb7-4907-af97-fe731c719685",
   "metadata": {},
   "outputs": [
    {
     "name": "stdout",
     "output_type": "stream",
     "text": [
      "Normal Room Rent: 500\n",
      "AC Room Rent: 450\n",
      "Suite Room Rent: 1350\n"
     ]
    }
   ],
   "source": [
    "\n",
    "class NormalRoom:\n",
    "    def calculates(self, no_rooms, days):\n",
    "        if days == 1:\n",
    "            rent = 300\n",
    "        elif 1 < days <= 5:\n",
    "            rent = 250\n",
    "        else:\n",
    "            rent = 200\n",
    "        return no_rooms * rent\n",
    "class ACRoom:\n",
    "    def AC_calculates(self, no_rooms, days):\n",
    "        if days == 1:\n",
    "            rent = 450\n",
    "        elif 1 < days <= 5:\n",
    "            rent = 300\n",
    "        else:\n",
    "            rent = 250\n",
    "        return no_rooms * rent\n",
    "\n",
    "class SuiteRoom:\n",
    "    def Suite_calculates(self, no_rooms, days):\n",
    "        if days == 1:\n",
    "            rent = 550\n",
    "        elif 1 < days <= 5:\n",
    "            rent = 500\n",
    "        else:\n",
    "            rent = 450\n",
    "        return no_rooms * rent\n",
    "\n",
    "class Hotel(NormalRoom, ACRoom, SuiteRoom):\n",
    "    def display(self, room_type, no_rooms, days):\n",
    "        if room_type == \"NormalRoom\":\n",
    "            cost = self.calculates(no_rooms, days)\n",
    "            print(f\"Normal Room Rent: {cost}\")\n",
    "        elif room_type == \"ACRoom\":\n",
    "            cost = self.AC_calculates(no_rooms, days)\n",
    "            print(f\"AC Room Rent: {cost}\")\n",
    "        elif room_type == \"SuiteRoom\":\n",
    "            cost = self.Suite_calculates(no_rooms, days)\n",
    "            print(f\"Suite Room Rent: {cost}\")\n",
    "        else:\n",
    "            print(\"Invalid room type!\")\n",
    "hotel = Hotel()\n",
    "hotel.display(\"NormalRoom\", 2, 3) \n",
    "hotel.display(\"ACRoom\", 1, 1)      \n",
    "hotel.display(\"SuiteRoom\", 3, 6)   "
   ]
  },
  {
   "cell_type": "code",
   "execution_count": 9,
   "id": "ba72d0d0-e52b-4f25-93a0-734152ef5a6d",
   "metadata": {},
   "outputs": [
    {
     "name": "stdin",
     "output_type": "stream",
     "text": [
      "Enter the number of rooms:  2\n",
      "Enter the number of days:  3\n",
      "Enter the hotel name:  www\n",
      "Enter the hotel address:  wwert\n",
      "Enter the hotel mobile:  99999999\n"
     ]
    },
    {
     "name": "stdout",
     "output_type": "stream",
     "text": [
      "The room rent is 500\n",
      "Hotel Name: www\n",
      "Address: wwert\n",
      "Mobile: 99999999\n"
     ]
    }
   ],
   "source": [
    "class Normal_room:\n",
    "    def __init__(self, no_rooms, days):\n",
    "        self.no_rooms = no_rooms\n",
    "        self.days = days\n",
    "\n",
    "    def rent(self):\n",
    "        if self.days == 1:\n",
    "            print(\"The room rent is 300\")\n",
    "        elif self.days > 1 and self.days <= 5:\n",
    "            print(\"The room rent is 250\")\n",
    "        else:\n",
    "            print(\"The room rent is 200\")\n",
    "\n",
    "class Ac_rooms(Normal_room):\n",
    "    def rent(self):\n",
    "        if self.days == 1:\n",
    "            print(\"The room rent is 450\")\n",
    "        elif self.days > 1 and self.days <= 5:\n",
    "            print(\"The room rent is 300\")\n",
    "        else:\n",
    "            print(\"The room rent is 250\")\n",
    "\n",
    "class Suite_room(Ac_rooms):\n",
    "    def rent(self):\n",
    "        if self.days == 1:\n",
    "            print(\"The room rent is 550\")\n",
    "        elif self.days > 1 and self.days <= 5:\n",
    "            print(\"The room rent is 500\")\n",
    "        else:\n",
    "            print(\"The room rent is 450\")\n",
    "\n",
    "class Hotel(Suite_room):\n",
    "    def __init__(self, no_rooms, days, name, address, mobile):\n",
    "        self.no_rooms = no_rooms\n",
    "        self.days = days\n",
    "        self.name = name\n",
    "        self.address = address\n",
    "        self.mobile = mobile\n",
    "\n",
    "    def display(self):\n",
    "        print(f\"Hotel Name: {self.name}\")\n",
    "        print(f\"Address: {self.address}\")\n",
    "        \n",
    "        print(f\"Mobile: {self.mobile}\")\n",
    "\n",
    "no_rooms = int(input(\"Enter the number of rooms: \"))\n",
    "days = int(input(\"Enter the number of days: \"))\n",
    "name = input(\"Enter the hotel name: \")\n",
    "address = input(\"Enter the hotel address: \")\n",
    "mobile = input(\"Enter the hotel mobile: \")\n",
    "\n",
    "h = Hotel(no_rooms, days, name, address, mobile)\n",
    "h.rent()\n",
    "h.display()"
   ]
  },
  {
   "cell_type": "code",
   "execution_count": null,
   "id": "dd688083-c4bf-4e2b-91d1-cdc050b76176",
   "metadata": {},
   "outputs": [],
   "source": [
    "class Person: \n",
    "    def __init__(self,name): \n",
    "        self.name=name\n",
    "        def display(self): \n",
    "         return self.name\n",
    "class Staff(Person):\n",
    "    def __init__(self,ID): \n",
    "        self.id=Id\n",
    "        def display(self):\n",
    "        return self.id\n",
    "class Temporarystaff(Staff):\n",
    "    def salaray(self,salary):\n",
    "        self.salaray=salary\n",
    "        def display(self): \n",
    "        return self.salaray\n",
    "\n",
    "        \n",
    "    "
   ]
  },
  {
   "cell_type": "code",
   "execution_count": 10,
   "id": "1a10b398-ac0e-4b82-a594-e096a8fd20c1",
   "metadata": {},
   "outputs": [
    {
     "name": "stdin",
     "output_type": "stream",
     "text": [
      "Enter the name:  karthik\n",
      "Enter the staff ID:  35678\n",
      "Enter the number of days worked:  6\n",
      "Enter the hours worked per day:  10\n"
     ]
    },
    {
     "ename": "TypeError",
     "evalue": "TemporaryStaff() takes no arguments",
     "output_type": "error",
     "traceback": [
      "\u001b[1;31m---------------------------------------------------------------------------\u001b[0m",
      "\u001b[1;31mTypeError\u001b[0m                                 Traceback (most recent call last)",
      "Cell \u001b[1;32mIn[10], line 44\u001b[0m\n\u001b[0;32m     41\u001b[0m hours_per_day \u001b[38;5;241m=\u001b[39m \u001b[38;5;28mint\u001b[39m(\u001b[38;5;28minput\u001b[39m(\u001b[38;5;124m\"\u001b[39m\u001b[38;5;124mEnter the hours worked per day: \u001b[39m\u001b[38;5;124m\"\u001b[39m))\n\u001b[0;32m     43\u001b[0m \u001b[38;5;66;03m# Creating an instance of TemporaryStaff\u001b[39;00m\n\u001b[1;32m---> 44\u001b[0m temp_staff \u001b[38;5;241m=\u001b[39m \u001b[43mTemporaryStaff\u001b[49m\u001b[43m(\u001b[49m\u001b[43mname\u001b[49m\u001b[43m,\u001b[49m\u001b[43m \u001b[49m\u001b[43mstaff_id\u001b[49m\u001b[43m,\u001b[49m\u001b[43m \u001b[49m\u001b[43mdays\u001b[49m\u001b[43m,\u001b[49m\u001b[43m \u001b[49m\u001b[43mhours_per_day\u001b[49m\u001b[43m)\u001b[49m\n\u001b[0;32m     46\u001b[0m \u001b[38;5;66;03m# Display the information\u001b[39;00m\n\u001b[0;32m     47\u001b[0m \u001b[38;5;28mprint\u001b[39m(\u001b[38;5;124m\"\u001b[39m\u001b[38;5;130;01m\\n\u001b[39;00m\u001b[38;5;124mTemporary Staff Details:\u001b[39m\u001b[38;5;124m\"\u001b[39m)\n",
      "\u001b[1;31mTypeError\u001b[0m: TemporaryStaff() takes no arguments"
     ]
    }
   ],
   "source": [
    "class Person:\n",
    "    def _init_(self, name):\n",
    "        self.name = name\n",
    "\n",
    "    def display(self):\n",
    "        print(f\"Name: {self.name}\")\n",
    "\n",
    "\n",
    "class Staff(Person):\n",
    "    def _init_(self, name, staff_id):\n",
    "        super()._init_(name)\n",
    "        self.staff_id = staff_id\n",
    "\n",
    "    def display(self):\n",
    "        super().display()\n",
    "        print(f\"Staff ID: {self.staff_id}\")\n",
    "\n",
    "\n",
    "class TemporaryStaff(Staff):\n",
    "    def _init_(self, name, staff_id, days, hours_per_day):\n",
    "        super()._init_(name, staff_id)\n",
    "        self.days = days\n",
    "        self.hours_per_day = hours_per_day\n",
    "\n",
    "    def salary(self):\n",
    "        total_hours_worked = self.days * self.hours_per_day\n",
    "        return total_hours_worked * 150\n",
    "\n",
    "    def display(self):\n",
    "        super().display()\n",
    "        total_salary = self.salary()\n",
    "        print(f\"Number of Days Worked: {self.days}\")\n",
    "        print(f\"Hours Worked per Day: {self.hours_per_day}\")\n",
    "        print(f\"Total Salary Earned: {total_salary}\")\n",
    "\n",
    "\n",
    "# Input Example\n",
    "name = input(\"Enter the name: \")\n",
    "staff_id = input(\"Enter the staff ID: \")\n",
    "days = int(input(\"Enter the number of days worked: \"))\n",
    "hours_per_day = int(input(\"Enter the hours worked per day: \"))\n",
    "\n",
    "# Creating an instance of TemporaryStaff\n",
    "temp_staff = TemporaryStaff(name, staff_id, days, hours_per_day)\n",
    "\n",
    "# Display the information\n",
    "print(\"\\nTemporary Staff Details:\")\n",
    "temp_staff.display()"
   ]
  },
  {
   "cell_type": "code",
   "execution_count": 21,
   "id": "a5e66bd5-97a8-4ee6-a97a-ff4d862070cc",
   "metadata": {},
   "outputs": [
    {
     "name": "stdin",
     "output_type": "stream",
     "text": [
      " dwde\n"
     ]
    },
    {
     "ename": "NameError",
     "evalue": "name 'self' is not defined",
     "output_type": "error",
     "traceback": [
      "\u001b[1;31m---------------------------------------------------------------------------\u001b[0m",
      "\u001b[1;31mNameError\u001b[0m                                 Traceback (most recent call last)",
      "Cell \u001b[1;32mIn[21], line 34\u001b[0m\n\u001b[0;32m     31\u001b[0m         earnedSalary \u001b[38;5;241m=\u001b[39m \u001b[38;5;28mself\u001b[39m\u001b[38;5;241m.\u001b[39mtotalhours \u001b[38;5;241m*\u001b[39m \u001b[38;5;241m150\u001b[39m\n\u001b[0;32m     32\u001b[0m         \u001b[38;5;28mprint\u001b[39m(\u001b[38;5;124mf\u001b[39m\u001b[38;5;124m\"\u001b[39m\u001b[38;5;124mTotal Salary Earned is: \u001b[39m\u001b[38;5;132;01m{\u001b[39;00mearnedSalary\u001b[38;5;132;01m}\u001b[39;00m\u001b[38;5;124m\"\u001b[39m)\n\u001b[1;32m---> 34\u001b[0m \u001b[38;5;28;43mself\u001b[39;49m\u001b[38;5;241m.\u001b[39mname\u001b[38;5;241m=\u001b[39m\u001b[38;5;28minput\u001b[39m()\n\u001b[0;32m     35\u001b[0m \u001b[38;5;28mself\u001b[39m\u001b[38;5;241m.\u001b[39mid\u001b[38;5;241m=\u001b[39m\u001b[38;5;28minput\u001b[39m()\n\u001b[0;32m     36\u001b[0m \u001b[38;5;28mself\u001b[39m\u001b[38;5;241m.\u001b[39mdays\u001b[38;5;241m=\u001b[39m\u001b[38;5;28mint\u001b[39m(\u001b[38;5;28minput\u001b[39m())\n",
      "\u001b[1;31mNameError\u001b[0m: name 'self' is not defined"
     ]
    }
   ],
   "source": [
    "class Person:\n",
    "    def __init__(self, name):\n",
    "        self.name = name\n",
    "\n",
    "    def display(self):\n",
    "        print(f\"Name: {self.name}\")\n",
    "\n",
    "\n",
    "class Staff(Person):\n",
    "    def __init__(self, name, id):\n",
    "        super().__init__(name)\n",
    "        self.id = id\n",
    "\n",
    "    def display(self):\n",
    "        super().display()\n",
    "        print(f\"ID: {self.id}\")\n",
    "\n",
    "\n",
    "class TemporaryStaff(Staff):\n",
    "    def __init__(self, name, id, days, totalhours):\n",
    "        super(). __init__(name, id)\n",
    "        self.days = days\n",
    "        self.totalhours = totalhours\n",
    "\n",
    "    def display(self):\n",
    "        super().display()\n",
    "        print(f\"Number of days worked: {self.days}\")\n",
    "        print(f\"Number of total hours worked: {self.totalhours}\")\n",
    "\n",
    "    def Salary(self):\n",
    "        earnedSalary = self.totalhours * 150\n",
    "        print(f\"Total Salary Earned is: {earnedSalary}\")\n",
    "\n",
    "obj= TemporaryStaff() \n",
    "self.name=int(input())\n",
    "self.id=int(input())\n",
    "self.days=int(input())\n",
    "te\n",
    "\n"
   ]
  },
  {
   "cell_type": "code",
   "execution_count": 1,
   "id": "58bea403-7f17-4283-8f20-0b935a3a4a37",
   "metadata": {},
   "outputs": [
    {
     "name": "stdout",
     "output_type": "stream",
     "text": [
      "8\n"
     ]
    }
   ],
   "source": [
    "def add_numbers(a, b):\n",
    "    return a + b\n",
    "print(add_numbers(5, 3))  \n",
    "\n"
   ]
  },
  {
   "cell_type": "code",
   "execution_count": 2,
   "id": "f6e8ce22-96fb-4791-a483-7d336a0abcef",
   "metadata": {},
   "outputs": [
    {
     "name": "stdout",
     "output_type": "stream",
     "text": [
      "True\n"
     ]
    }
   ],
   "source": [
    "def divisible_by_3_or_5(number):\n",
    "    return number % 3 == 0 or number % 5 == 0\n",
    "print(divisible_by_3_or_5(15))"
   ]
  },
  {
   "cell_type": "code",
   "execution_count": 5,
   "id": "fe7687ee-b6a9-477d-a83f-f014de97e73c",
   "metadata": {},
   "outputs": [
    {
     "name": "stdin",
     "output_type": "stream",
     "text": [
      "Enter list 1:  1 2 3 4 4 \n",
      "Enter list 2:  3 4 4 42 4 \n"
     ]
    },
    {
     "name": "stdout",
     "output_type": "stream",
     "text": [
      "{3, 4}\n"
     ]
    }
   ],
   "source": [
    "list1 = [int(x) for x in input(\"Enter list 1: \").split()]\n",
    "list2 = [int(x) for x in input(\"Enter list 2: \").split()]\n",
    "common_elements = {x for x in list1 if x in list2}\n",
    "print(common_elements)"
   ]
  },
  {
   "cell_type": "code",
   "execution_count": 14,
   "id": "dea76639-8c4c-4bee-b70f-4e9e0dc0371d",
   "metadata": {},
   "outputs": [
    {
     "name": "stdin",
     "output_type": "stream",
     "text": [
      "enter the name:  karthik\n",
      "entr the adress;  fsh\n",
      "enter the number:  8088260714\n",
      "entr the roo no:  7\n",
      "entr the days:  2\n"
     ]
    },
    {
     "name": "stdout",
     "output_type": "stream",
     "text": [
      "the name is karthik\n",
      "the adres is fsh\n",
      "the mno is 8088260714\n"
     ]
    }
   ],
   "source": [
    "class Normal_rooms:\n",
    "    def __init__(self, no_rooms, days):\n",
    "        self.no_rooms = no_rooms\n",
    "        self.days = days\n",
    "    def calculates(self):\n",
    "      if self.days == 1: \n",
    "          print(\"the room rent is 300\")\n",
    "      elif 1 < self.days <= 5:\n",
    "          print(\"the room rent is 250\") \n",
    "      elif self.days > 5: \n",
    "          print(\"the room rent is 300\")\n",
    "      else: \n",
    "          print(\"none\")\n",
    "class AC_room(Normal_rooms):\n",
    "    def AC_calculates(self):\n",
    "        if self.days==1: \n",
    "            print(\"the room rent is 450\")\n",
    "        elif 1 < self.days <= 5: \n",
    "            print(\"the room reny is 300\")\n",
    "        elif self.days > 5: \n",
    "            print(\"the room rent is 250\")\n",
    "        else:\n",
    "            print(\"none\")\n",
    "class Suite_room(AC_room):\n",
    "    def Suite_calculates(self):\n",
    "        if self.days==1: \n",
    "            print(\"the room rent is 550\")\n",
    "        elif 1 < self.days <= 5:\n",
    "            print(\"the room reny is 500\")\n",
    "        elif self.days > 5: \n",
    "            print(\"the room rent is 450\")\n",
    "        else: \n",
    "         print(\"none\")\n",
    "class Hotel(Suite_room):\n",
    "    def __init__(self,name,address,mobile,no_rooms, days):\n",
    "        self.name=name\n",
    "        self.address=address\n",
    "        self.mobile=mobile\n",
    "    def display(self):\n",
    "        print(f\"the name is {self.name}\")\n",
    "        print(f\"the adres is {self.address}\")\n",
    "        print(f\"the mno is {self.mobile}\")\n",
    "name=input(\"enter the name: \")\n",
    "address=input(\"entr the adress; \")\n",
    "mobile=int(input(\"enter the number: \"))\n",
    "no_rooms=int(input(\"entr the roo no: \"))\n",
    "days=int(input(\"entr the days: \"))\n",
    "h=Hotel(name, address, mobile, no_rooms, days)\n",
    "h.display()\n",
    "\n",
    "        "
   ]
  },
  {
   "cell_type": "code",
   "execution_count": 7,
   "id": "17c997a2-b297-4b65-8af8-699caf438bf8",
   "metadata": {},
   "outputs": [
    {
     "name": "stdin",
     "output_type": "stream",
     "text": [
      "Enter your name: ljh\n",
      "Enter your address:  ghu\n",
      "Enter your mobile number:  68\n",
      "Enter the number of rooms:  5\n",
      "Enter the number of days:  2\n"
     ]
    },
    {
     "name": "stdout",
     "output_type": "stream",
     "text": [
      "Name: ljh\n",
      "Address: ghu\n",
      "Mobile Number: 68\n"
     ]
    },
    {
     "name": "stdin",
     "output_type": "stream",
     "text": [
      "Enter the room type (Normal/AC/Suite):  normal\n"
     ]
    },
    {
     "name": "stdout",
     "output_type": "stream",
     "text": [
      "The room rent for 5 room(s) for 2 day(s) is: 1250\n"
     ]
    }
   ],
   "source": [
    "##### class Normal_rooms:\n",
    "    def calculates(self, no_rooms, days):\n",
    "        if days == 1:\n",
    "            rent = 300\n",
    "        elif 1 < days <= 5:\n",
    "            rent = 250\n",
    "        elif days > 5:\n",
    "            rent = 200\n",
    "        else:\n",
    "            rent = 0\n",
    "        print(f\"The room rent for {no_rooms} room(s) for {days} day(s) is: {rent * no_rooms}\")\n",
    "\n",
    "class AC_room(Normal_rooms):\n",
    "    def AC_calculates(self, no_rooms, days):\n",
    "        if days == 1:\n",
    "            rent = 450\n",
    "        elif 1 < days <= 5:\n",
    "            rent = 300\n",
    "        elif days > 5:\n",
    "            rent = 250\n",
    "        else:\n",
    "            rent = 0\n",
    "        print(f\"The AC room rent for {no_rooms} room(s) for {days} day(s) is: {rent * no_rooms}\")\n",
    "\n",
    "class Suite_room(AC_room):\n",
    "    def Suite_calculates(self, no_rooms, days):\n",
    "        if days == 1:\n",
    "            rent = 550\n",
    "        elif 1 < days <= 5:\n",
    "            rent = 500\n",
    "        elif days > 5:\n",
    "            rent = 450\n",
    "        else:\n",
    "            rent = 0\n",
    "        print(f\"The Suite room rent for {no_rooms} room(s) for {days} day(s) is: {rent * no_rooms}\")\n",
    "\n",
    "class Hotel(Suite_room):\n",
    "    def __init__(self, name, address, mobile):\n",
    "        self.name = name\n",
    "        self.address = address\n",
    "        self.mobile = mobile\n",
    "\n",
    "    def display(self):\n",
    "        print(f\"Name: {self.name}\")\n",
    "        print(f\"Address: {self.address}\")\n",
    "        print(f\"Mobile Number: {self.mobile}\")\n",
    "\n",
    "# Input and Usage\n",
    "name = input(\"Enter your name:\")\n",
    "address = input(\"Enter your address: \")\n",
    "mobile = input(\"Enter your mobile number: \")\n",
    "no_rooms = int(input(\"Enter the number of rooms: \"))\n",
    "days = int(input(\"Enter the number of days: \"))\n",
    "\n",
    "hotel = Hotel(name, address, mobile)\n",
    "hotel.display()\n",
    "\n",
    "room_type = input(\"Enter the room type (Normal/AC/Suite): \")\n",
    "\n",
    "if room_type == \"normal\":\n",
    "    hotel.calculates(no_rooms, days)\n",
    "elif room_type == \"ac\":\n",
    "    hotel.AC_calculates(no_rooms, days)\n",
    "elif room_type == \"suite\":\n",
    "    hotel.Suite_calculates(no_rooms, days)\n",
    "else:\n",
    "    print(\"Invalid room type\")\n",
    "    \n"
   ]
  },
  {
   "cell_type": "code",
   "execution_count": null,
   "id": "322f9f02-c4eb-4af5-bfbc-20c87864b63a",
   "metadata": {},
   "outputs": [],
   "source": [
    "class Normal_rooms:\n",
    "    def Normal_calculates(self, no_rooms, days):\n",
    "        if days == 1:\n",
    "            rent = 300\n",
    "        elif 1 < days <= 5:\n",
    "            rent = 250\n",
    "        elif days > 5:\n",
    "            rent = 200\n",
    "        else:\n",
    "            rent = 0\n",
    "        print(f\"The normal room rent for {no_rooms} room(s) for {days} day(s) is: {rent * no_rooms}\")\n",
    "\n",
    "class AC_rooms(Normal_rooms):\n",
    "    def AC_calculates(self, no_rooms, days):\n",
    "        if days == 1:\n",
    "            rent = 450\n",
    "        elif 1 < days <= 5:\n",
    "            rent = 300\n",
    "        elif days > 5:\n",
    "            rent = 250\n",
    "        else:\n",
    "            rent = 0\n",
    "        print(f\"The AC room rent for {no_rooms} room(s) for {days} day(s) is: {rent * no_rooms}\")\n",
    "\n",
    "class Suite_rooms(AC_rooms):\n",
    "    def Suite_calculates(self, no_rooms, days):\n",
    "        if days == 1:\n",
    "            rent = 550\n",
    "        elif 1 < days <= 5:\n",
    "            rent = 500\n",
    "        elif days > 5:\n",
    "            rent = 450\n",
    "        else:\n",
    "            rent = 0\n",
    "        print(f\"The suite room rent for {no_rooms} room(s) for {days} day(s) is: {rent * no_rooms}\")\n",
    "\n",
    "class Hotel(Suite_rooms):\n",
    "    def __init__(self, name, address, mobile):\n",
    "        self.name = name\n",
    "        self.address = address\n",
    "        self.mobile = mobile\n",
    "\n",
    "    def display(self):\n",
    "        print(f\"The name is: {self.name}\")\n",
    "        print(f\"The address is: {self.address}\")\n",
    "        print(f\"The mobile number is: {self.mobile}\")\n",
    "#input\n",
    "name=input(\"enter th name:\")\n",
    "address=input(\"enter the address:\")\n",
    "mobile=int(input(\"enter the mobileno:\"))\n",
    "no_rooms=int(input(\"enter the no of rooms:\"))\n",
    "days=int(input(\"enter the no of dys:\"))\n",
    "\n",
    "hotel = Hotel(name, address, mobile)\n",
    "hotel.display()\n",
    "roomtype=input(\"entr the type of room ac/normal/suite: \")\n",
    "if roomtype==\"normal\":\n",
    "    hotel.Normal_calculates(no_rooms, days) \n",
    "elif roomtype==\"ac\":\n",
    "    hotel.AC_calculates(no_rooms,days)\n",
    "elif roomtype==\"suite\":\n",
    "    hotel.Suite_calculates(no_rooms,days)\n",
    "else:\n",
    "    pri"
   ]
  },
  {
   "cell_type": "code",
   "execution_count": null,
   "id": "4de81ab0-9ea8-4194-9c31-2983d41aa929",
   "metadata": {},
   "outputs": [
    {
     "name": "stdin",
     "output_type": "stream",
     "text": [
      "enter th name: jdjkj\n"
     ]
    }
   ],
   "source": [
    "nt(\"null\")\n",
    " "
   ]
  },
  {
   "cell_type": "code",
   "execution_count": 32,
   "id": "ef105bed-bc02-4191-8387-35dbd714ff51",
   "metadata": {},
   "outputs": [
    {
     "name": "stdin",
     "output_type": "stream",
     "text": [
      "Enter your name:  kmkk\n",
      "Enter your address:  kl\n",
      "Enter your mobile number:  56\n",
      "Enter the number of rooms:  2\n",
      "Enter the number of days:  4\n"
     ]
    },
    {
     "name": "stdout",
     "output_type": "stream",
     "text": [
      "The name is: kmkk\n",
      "The address is: kl\n",
      "The mobile number is: 56\n",
      "The normal room rent for 2 room(s) for 4 day(s) is: 500\n",
      "The AC room rent for 2 room(s) for 4 day(s) is: 600\n",
      "The suite room rent for 2 room(s) for 4 day(s) is: 1000\n"
     ]
    }
   ],
   "source": [
    "class Normal_rooms:\n",
    "    def Normal_calculates(self, no_rooms, days):\n",
    "        if days == 1:\n",
    "            rent = 300\n",
    "        elif 1 < days <= 5:\n",
    "            rent = 250\n",
    "        elif days > 5:\n",
    "            rent = 200\n",
    "        else:\n",
    "            rent = 0\n",
    "        print(f\"The normal room rent for {no_rooms} room(s) for {days} day(s) is: {rent * no_rooms}\")\n",
    "\n",
    "class AC_rooms(Normal_rooms):\n",
    "    def AC_calculates(self, no_rooms, days):\n",
    "        if days == 1:\n",
    "            rent = 450\n",
    "        elif 1 < days <= 5:\n",
    "            rent = 300\n",
    "        elif days > 5:\n",
    "            rent = 250\n",
    "        else:\n",
    "            rent = 0\n",
    "        print(f\"The AC room rent for {no_rooms} room(s) for {days} day(s) is: {rent * no_rooms}\")\n",
    "\n",
    "class Suite_rooms(AC_rooms):\n",
    "    def Suite_calculates(self, no_rooms, days):\n",
    "        if days == 1:\n",
    "            rent = 550\n",
    "        elif 1 < days <= 5:\n",
    "            rent = 500\n",
    "        elif days > 5:\n",
    "            rent = 450\n",
    "        else:\n",
    "            rent = 0\n",
    "        print(f\"The suite room rent for {no_rooms} room(s) for {days} day(s) is: {rent * no_rooms}\")\n",
    "\n",
    "class Hotel(Suite_rooms):\n",
    "    def __init__(self, name, address, mobile):\n",
    "        self.name = name\n",
    "        self.address = address\n",
    "        self.mobile = mobile\n",
    "\n",
    "    def display(self):\n",
    "        print(f\"The name is: {self.name}\")\n",
    "        print(f\"The address is: {self.address}\")\n",
    "        print(f\"The mobile number is: {self.mobile}\")\n",
    "\n",
    "# Input\n",
    "name = input(\"Enter your name: \")\n",
    "address = input(\"Enter your address: \")\n",
    "mobile = input(\"Enter your mobile number: \")\n",
    "no_rooms = int(input(\"Enter the number of rooms: \"))\n",
    "days = int(input(\"Enter the number of days: \"))\n",
    "\n",
    "# Create Hotel object and display details\n",
    "hotel = Hotel(name, address, mobile)\n",
    "hotel.display()\n",
    "\n",
    "# Call room type methods\n",
    "hotel.Normal_calculates(no_rooms, days)\n",
    "hotel.AC_calculates(no_rooms, days)\n",
    "hotel.Suite_calculates(no_rooms, days)\n"
   ]
  },
  {
   "cell_type": "code",
   "execution_count": null,
   "id": "a31b8dbc-c6e0-4a7e-b453-1d4e95ece75d",
   "metadata": {},
   "outputs": [],
   "source": [
    "####POLHYMORPOSIM\n",
    "class Animal:\n",
    "    def animal(\n"
   ]
  },
  {
   "cell_type": "code",
   "execution_count": 2,
   "id": "8c8f6871-ae51-4910-918b-ebd2f6e0c47f",
   "metadata": {},
   "outputs": [
    {
     "name": "stdout",
     "output_type": "stream",
     "text": [
      "Area of the circle: 78.53975\n",
      "Area of the rectangle: 28\n"
     ]
    }
   ],
   "source": [
    "#overloading\n",
    "class Shape:\n",
    "    def area(self, *args):\n",
    "        if len(args) == 1:\n",
    "            # Calculate the area of a circle (π * r^2)\n",
    "            radius = args[0]\n",
    "            return 3.14159 * radius * radius\n",
    "        elif len(args) == 2:\n",
    "            # Calculate the area of a rectangle (length * breadth)\n",
    "            length, breadth = args\n",
    "            return length * breadth\n",
    "        else:\n",
    "            return \"Invalid number of arguments\"\n",
    "\n",
    "# Create an instance of the Shape class\n",
    "shape = Shape()\n",
    "\n",
    "# Find the area of a circle (radius = 5)\n",
    "circle_area = shape.area(5)\n",
    "print(f\"Area of the circle: {circle_area}\")\n",
    "\n",
    "# Find the area of a rectangle (length = 4, breadth = 7)\n",
    "rectangle_area = shape.area(4, 7)\n",
    "\n",
    "print(f\"Area of the rectangle: {rectangle_area}\")\n"
   ]
  },
  {
   "cell_type": "code",
   "execution_count": 25,
   "id": "a01cd33d-f4d5-455d-9ce1-6dd8717bfbc9",
   "metadata": {},
   "outputs": [
    {
     "ename": "NameError",
     "evalue": "name '_n' is not defined",
     "output_type": "error",
     "traceback": [
      "\u001b[1;31m---------------------------------------------------------------------------\u001b[0m",
      "\u001b[1;31mNameError\u001b[0m                                 Traceback (most recent call last)",
      "Cell \u001b[1;32mIn[25], line 2\u001b[0m\n\u001b[0;32m      1\u001b[0m \u001b[38;5;66;03m##emcapculation\u001b[39;00m\n\u001b[1;32m----> 2\u001b[0m \u001b[38;5;28;01mclass\u001b[39;00m \u001b[38;5;21;01mSum_odd\u001b[39;00m: \n\u001b[0;32m      3\u001b[0m     \u001b[38;5;28;01mdef\u001b[39;00m \u001b[38;5;21mcalc\u001b[39m(\u001b[38;5;28mself\u001b[39m):\n\u001b[0;32m      4\u001b[0m      _n\u001b[38;5;241m=\u001b[39m\u001b[38;5;28mint\u001b[39m(\u001b[38;5;28minput\u001b[39m())\n",
      "Cell \u001b[1;32mIn[25], line 6\u001b[0m, in \u001b[0;36mSum_odd\u001b[1;34m()\u001b[0m\n\u001b[0;32m      4\u001b[0m  _n\u001b[38;5;241m=\u001b[39m\u001b[38;5;28mint\u001b[39m(\u001b[38;5;28minput\u001b[39m())\n\u001b[0;32m      5\u001b[0m x\u001b[38;5;241m=\u001b[39m\u001b[38;5;241m0\u001b[39m\n\u001b[1;32m----> 6\u001b[0m \u001b[38;5;28;01mfor\u001b[39;00m i \u001b[38;5;129;01min\u001b[39;00m \u001b[38;5;28mrange\u001b[39m(\u001b[38;5;241m1\u001b[39m,_n\u001b[38;5;241m+\u001b[39m\u001b[38;5;241m1\u001b[39m):\n\u001b[0;32m      7\u001b[0m     \u001b[38;5;28;01mif\u001b[39;00m i\u001b[38;5;241m%\u001b[39m\u001b[38;5;241m2\u001b[39m \u001b[38;5;241m!=\u001b[39m\u001b[38;5;241m0\u001b[39m:\n\u001b[0;32m      8\u001b[0m         x\u001b[38;5;241m+\u001b[39m\u001b[38;5;241m=\u001b[39mi\n",
      "\u001b[1;31mNameError\u001b[0m: name '_n' is not defined"
     ]
    }
   ],
   "source": [
    "##emcapculation data protection \n",
    "class Sum_odd: \n",
    "    def calc(self):\n",
    "     _n=int(input())\n",
    "    x=0\n",
    "    for i in range(1,_n+1):\n",
    "        if i%2 !=0:\n",
    "            x+=i\n",
    "        print(x)\n",
    "m=Sum_odd()\n",
    "m.calc()"
   ]
  },
  {
   "cell_type": "code",
   "execution_count": 12,
   "id": "5d771f5c-f855-41a2-bbba-4c1542866868",
   "metadata": {},
   "outputs": [
    {
     "name": "stdin",
     "output_type": "stream",
     "text": [
      " 3\n"
     ]
    },
    {
     "name": "stdout",
     "output_type": "stream",
     "text": [
      "odd\n"
     ]
    }
   ],
   "source": [
    "class Check: \n",
    "    def ood_evn(self):\n",
    "     _n=int(input())\n",
    "     if _n%2==0: \n",
    "         print(\"evn\")\n",
    "     else:\n",
    "         print(\"odd\")\n",
    "ob=Check()  \n",
    "ob.ood_evn()"
   ]
  },
  {
   "cell_type": "code",
   "execution_count": 60,
   "id": "cb4e31f3-8782-452d-99df-c660e76dd51f",
   "metadata": {},
   "outputs": [
    {
     "name": "stdin",
     "output_type": "stream",
     "text": [
      " 5\n"
     ]
    },
    {
     "name": "stdout",
     "output_type": "stream",
     "text": [
      "1\n",
      "4\n",
      "9\n"
     ]
    }
   ],
   "source": [
    "class sum_odd:\n",
    "  def calc(self):\n",
    "    _n=int(input())  # _n is defined here\n",
    "    x = 0\n",
    "    for i in range(1,_n+1,2):  # Now _n is accessible in this loop\n",
    "      if i%2!=0:\n",
    "        x = x+i\n",
    "      print(x)\n",
    "\n",
    "m=sum_odd()\n",
    "m.calc()"
   ]
  },
  {
   "cell_type": "code",
   "execution_count": 52,
   "id": "c849ad6c-aa41-41a5-b924-011193ead833",
   "metadata": {},
   "outputs": [
    {
     "ename": "SyntaxError",
     "evalue": "invalid syntax (3712541796.py, line 4)",
     "output_type": "error",
     "traceback": [
      "\u001b[1;36m  Cell \u001b[1;32mIn[52], line 4\u001b[1;36m\u001b[0m\n\u001b[1;33m    get_bal():\u001b[0m\n\u001b[1;37m             ^\u001b[0m\n\u001b[1;31mSyntaxError\u001b[0m\u001b[1;31m:\u001b[0m invalid syntax\n"
     ]
    }
   ],
   "source": [
    "class bank_acc: \n",
    "    def __init__(self,owner,bal=0): \n",
    "     __bal\n",
    "     get_bal():\n",
    "     deposite(self,amt):\n",
    "     if amt>0:\n",
    "     self.__bal+=amt\n",
    "     print(bal) \n",
    "     else:\n",
    "     print(depsie amt is grtefr then zdero) \n",
    "withdraw(self,amt): \n",
    "    if 0<amt<=self.__bal: \n",
    "        self.__bal-=amt\n",
    "        print(bal) \n",
    "    else:\n",
    "        print(insufficent) \n",
    "acc=ban_acc(\"karthik\",600)\n",
    "acc.deposite(400)"
   ]
  },
  {
   "cell_type": "code",
   "execution_count": 62,
   "id": "def4b532-816e-4e6d-88fd-d7ed9f4af21c",
   "metadata": {},
   "outputs": [
    {
     "name": "stdout",
     "output_type": "stream",
     "text": [
      "Deposited 400. Current balance: 1000\n",
      "Withdrawn 200. Current balance: 800\n",
      "Insufficient balance or invalid amount.\n",
      "Final balance: 800\n"
     ]
    }
   ],
   "source": [
    "class BankAccount:\n",
    "    def __init__(self, owner, balance=0):\n",
    "        self.owner = owner\n",
    "        self.__balance = balance  # Private attribute for balance\n",
    "\n",
    "    def get_balance(self):\n",
    "        return self.__balance\n",
    "\n",
    "    def deposit(self, amount):\n",
    "        if amount > 0:\n",
    "            self.__balance += amount\n",
    "            print(f\"Deposited {amount}. Current balance: {self.__balance}\")\n",
    "        else:\n",
    "            print(\"Deposit amount must be greater than zero.\")\n",
    "\n",
    "    def withdraw(self, amount):\n",
    "        if 0 < amount <= self.__balance:\n",
    "            self.__balance -= amount\n",
    "            print(f\"Withdrawn {amount}. Current balance: {self.__balance}\")\n",
    "        else:\n",
    "            print(\"Insufficient balance or invalid amount.\")\n",
    "\n",
    "# Example usage\n",
    "acc = BankAccount(\"Karthik\", 600)\n",
    "acc.deposit(400)  # Deposits 400\n",
    "acc.withdraw(200)  # Withdraws 200\n",
    "acc.withdraw(1000)  # Tries to withdraw more than the balance\n",
    "print(f\"Final balance: {acc.get_balance()}\")  # Prints the final balance\n"
   ]
  },
  {
   "cell_type": "code",
   "execution_count": null,
   "id": "13527f33-43c5-492e-a380-1a935fddb6c9",
   "metadata": {},
   "outputs": [],
   "source": []
  }
 ],
 "metadata": {
  "kernelspec": {
   "display_name": "Python 3 (ipykernel)",
   "language": "python",
   "name": "python3"
  },
  "language_info": {
   "codemirror_mode": {
    "name": "ipython",
    "version": 3
   },
   "file_extension": ".py",
   "mimetype": "text/x-python",
   "name": "python",
   "nbconvert_exporter": "python",
   "pygments_lexer": "ipython3",
   "version": "3.11.7"
  }
 },
 "nbformat": 4,
 "nbformat_minor": 5
}
