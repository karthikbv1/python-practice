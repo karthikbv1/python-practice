{
 "cells": [
  {
   "cell_type": "code",
   "execution_count": 4,
   "id": "9637445b-3f33-434a-8b64-c5bb9287597e",
   "metadata": {},
   "outputs": [
    {
     "name": "stdout",
     "output_type": "stream",
     "text": [
      "0\n",
      "2\n",
      "4\n",
      "6\n",
      "8\n",
      "10\n",
      "12\n",
      "14\n",
      "16\n",
      "18\n",
      "20\n",
      "22\n",
      "24\n",
      "26\n",
      "28\n",
      "30\n",
      "32\n",
      "34\n",
      "36\n",
      "38\n",
      "40\n",
      "42\n",
      "44\n",
      "46\n",
      "48\n"
     ]
    }
   ],
   "source": [
    "#print even number\n",
    "for i in range(0,50):\n",
    " if i%2 == 0:\n",
    "  print(i)"
   ]
  },
  {
   "cell_type": "code",
   "execution_count": 2,
   "id": "13141a2e-2b6a-4952-a040-a597bc34595b",
   "metadata": {},
   "outputs": [
    {
     "name": "stdin",
     "output_type": "stream",
     "text": [
      "enter a number: 16\n"
     ]
    },
    {
     "name": "stdout",
     "output_type": "stream",
     "text": [
      "16 * 1 = 16\n",
      "16 * 2 = 32\n",
      "16 * 3 = 48\n",
      "16 * 4 = 64\n",
      "16 * 5 = 80\n",
      "16 * 6 = 96\n",
      "16 * 7 = 112\n",
      "16 * 8 = 128\n",
      "16 * 9 = 144\n",
      "16 * 10 = 160\n"
     ]
    }
   ],
   "source": [
    "\n",
    "#tables crating using loops\n",
    "x=int(input(\"enter a number:\"))\n",
    "for i in range(1,10+1):\n",
    " print(x,\"*\",i,\"=\",x*i)"
   ]
  },
  {
   "cell_type": "code",
   "execution_count": 13,
   "id": "958075ae-5b34-4f0e-b12b-5377d81fed35",
   "metadata": {},
   "outputs": [
    {
     "name": "stdout",
     "output_type": "stream",
     "text": [
      "erolgnab\n"
     ]
    }
   ],
   "source": [
    "# string reverse\n",
    "x=\"banglore\"\n",
    "for i in (n):\n",
    "    n=(x[::-1])\n",
    "print(n)"
   ]
  },
  {
   "cell_type": "code",
   "execution_count": 17,
   "id": "e8ddab68-eeb5-4b8c-90fd-cab60a701fc5",
   "metadata": {},
   "outputs": [
    {
     "name": "stdout",
     "output_type": "stream",
     "text": [
      "even number is: 25\n",
      "the odd numb er is: 25\n"
     ]
    }
   ],
   "source": [
    "#how many even and odd number is ther inbetween 50 numbers\n",
    "x=0\n",
    "y=0\n",
    "for i in range(1,51):\n",
    "    if i%2==0:\n",
    "      x+=1\n",
    "    else:\n",
    "        y+=1\n",
    "print(\"even number is:\",x)\n",
    "print(\"the odd numb er is:\",y)"
   ]
  },
  {
   "cell_type": "code",
   "execution_count": null,
   "id": "318bacc6-eaf2-4122-8dba-ca99e8e3e98a",
   "metadata": {},
   "outputs": [],
   "source": []
  }
 ],
 "metadata": {
  "kernelspec": {
   "display_name": "Python 3 (ipykernel)",
   "language": "python",
   "name": "python3"
  },
  "language_info": {
   "codemirror_mode": {
    "name": "ipython",
    "version": 3
   },
   "file_extension": ".py",
   "mimetype": "text/x-python",
   "name": "python",
   "nbconvert_exporter": "python",
   "pygments_lexer": "ipython3",
   "version": "3.12.4"
  }
 },
 "nbformat": 4,
 "nbformat_minor": 5
}
