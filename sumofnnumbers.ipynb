{
 "cells": [
  {
   "cell_type": "code",
   "execution_count": 5,
   "id": "3bc94075-2d50-4b52-b854-8115ff3c3a5f",
   "metadata": {},
   "outputs": [
    {
     "name": "stdin",
     "output_type": "stream",
     "text": [
      "enter the number: 3\n"
     ]
    },
    {
     "name": "stdout",
     "output_type": "stream",
     "text": [
      "1\n",
      "total is = 1\n",
      "2\n",
      "total is = 3\n",
      "3\n",
      "total is = 6\n"
     ]
    }
   ],
   "source": [
    "#wrie a program to sum of n given number\n",
    "n=int(input(\"enter the number:\"))\n",
    "sum=0\n",
    "for i in range (1,n+1):\n",
    "    sum+=i\n",
    "    print(i)\n",
    "    print(\"total is =\",sum)\n",
    "    "
   ]
  },
  {
   "cell_type": "code",
   "execution_count": null,
   "id": "9ec0fa65-cbb0-488c-b92e-3b5569c9b75c",
   "metadata": {},
   "outputs": [],
   "source": []
  },
  {
   "cell_type": "code",
   "execution_count": null,
   "id": "0ded352a-66cb-41b7-b9b3-8d46c3b2b301",
   "metadata": {},
   "outputs": [],
   "source": []
  }
 ],
 "metadata": {
  "kernelspec": {
   "display_name": "Python 3 (ipykernel)",
   "language": "python",
   "name": "python3"
  },
  "language_info": {
   "codemirror_mode": {
    "name": "ipython",
    "version": 3
   },
   "file_extension": ".py",
   "mimetype": "text/x-python",
   "name": "python",
   "nbconvert_exporter": "python",
   "pygments_lexer": "ipython3",
   "version": "3.9.18"
  }
 },
 "nbformat": 4,
 "nbformat_minor": 5
}
